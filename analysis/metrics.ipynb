{
 "cells": [
  {
   "cell_type": "code",
   "execution_count": 13,
   "metadata": {},
   "outputs": [],
   "source": [
    "from nltk.translate.bleu_score import sentence_bleu, SmoothingFunction\n",
    "from nltk.translate.gleu_score import sentence_gleu\n",
    "import os\n",
    "from nltk.translate.meteor_score import meteor_score #REQUIRES LATEST NLTK 3.4.5 INSTALLED\n",
    "\"\"\"\n",
    "DOWNLOAD THIS REPO FROM https://github.com/tylin/coco-caption\n",
    "PUT coco_caption_master FOLDER INTO WORKING DIR\n",
    "\"\"\"\n",
    "from coco_caption_master.pycocoevalcap.rouge.rouge import Rouge \n",
    "from coco_caption_master.pycocoevalcap.meteor.meteor import Meteor\n",
    "from coco_caption_master.pycocoevalcap.cider.cider import Cider\n",
    "from statistics import mean"
   ]
  },
  {
   "cell_type": "code",
   "execution_count": 2,
   "metadata": {},
   "outputs": [],
   "source": [
    "def bleu_score_comp(ref, pred):\n",
    "\n",
    "    smooth = SmoothingFunction().method4\n",
    "  \n",
    "    score = 0\n",
    "    for pred_split in pred:\n",
    "        cur_score = sentence_bleu(ref, pred_split, weights=(0.25, 0.25, 0.25, 0.25), smoothing_function=smooth)\n",
    "        score = max(score, cur_score)\n",
    "    \n",
    "    return score"
   ]
  },
  {
   "cell_type": "code",
   "execution_count": 3,
   "metadata": {},
   "outputs": [],
   "source": [
    "def gleu_score_comp(ref, pred):\n",
    "    score = 0\n",
    "    for pred_split in pred:\n",
    "        cur_score = sentence_gleu(ref, pred_split, min_len=1, max_len=4)\n",
    "        score = max(cur_score, score)\n",
    "    \n",
    "    return score"
   ]
  },
  {
   "cell_type": "code",
   "execution_count": 4,
   "metadata": {},
   "outputs": [],
   "source": [
    "def meteor_score_comp(ref, pred):\n",
    "\n",
    "    lst_ref = []\n",
    "    lst_ref.append(\" \".join(ref[0]))\n",
    "  \n",
    "    score = 0\n",
    "    for pred_split in pred:\n",
    "\n",
    "        lst_pred = \" \".join(pred_split)\n",
    "        cur_score = meteor_score(lst_ref, lst_pred)\n",
    "        score = max(cur_score, score)\n",
    "    return score"
   ]
  },
  {
   "cell_type": "code",
   "execution_count": 5,
   "metadata": {},
   "outputs": [],
   "source": [
    "def rouge_score_comp(ref, pred):\n",
    "\n",
    "    lst_ref = []\n",
    "    lst_ref.append(\" \".join(ref[0]))\n",
    "    dict_ref = { 0: lst_ref}\n",
    "\n",
    "    score = 0\n",
    "    lst_pred = []\n",
    "    for pred_split in pred:\n",
    "\n",
    "        lst_pred.append(\" \".join(pred_split))\n",
    "        dict_pred = { 0: lst_pred}\n",
    "        cur_score, _ = Rouge().compute_score(dict_ref, dict_pred)\n",
    "        lst_pred.pop(0)\n",
    "        score = max(score, cur_score)\n",
    "\n",
    "    return score"
   ]
  },
  {
   "cell_type": "code",
   "execution_count": 14,
   "metadata": {},
   "outputs": [],
   "source": [
    "def cider_score_comp(ref, pred):\n",
    "\n",
    "    lst_ref = []\n",
    "    lst_ref.append(\" \".join(ref[0]))\n",
    "    dict_ref = { 0: lst_ref}\n",
    "\n",
    "    score = 0\n",
    "    lst_pred = []\n",
    "    for pred_split in pred:\n",
    "\n",
    "        lst_pred.append(\" \".join(pred_split))\n",
    "        dict_pred = { 0: lst_pred}\n",
    "        cur_score, _ = Cider().compute_score(dict_ref, dict_pred)\n",
    "        lst_pred.pop(0)\n",
    "        score = max(score, cur_score)\n",
    "\n",
    "    return score"
   ]
  },
  {
   "cell_type": "code",
   "execution_count": 17,
   "metadata": {},
   "outputs": [],
   "source": [
    "\"\"\"\n",
    "Format of input to total_test_score:\n",
    "EXAMPLE:\n",
    "\"\"\"\n",
    "reference1 = [['this', 'is', 'a', 'test']]\n",
    "candidate1 = [['this', 'is', 'a', 'test']]\n",
    "\n",
    "reference2 = [['the', 'quick', 'brown', 'fox', 'jumped', 'over', 'the', 'lazy', 'dog']]\n",
    "candidate2 = [['the', 'quick'],['the', 'quick', 'brown', 'fox']]\n",
    "\n",
    "test_list = [(reference1,candidate1), (reference2,candidate2)]\n",
    "\n",
    "def total_test_score(test_list):\n",
    "\n",
    "    bleu_sum = []\n",
    "    gleu_sum = []\n",
    "    meteor_sum = []\n",
    "    cider_sum = []\n",
    "    rouge_sum = []\n",
    "    \n",
    "    for ref, pred in test_list:\n",
    "    \n",
    "        bleu = bleu_score_comp(ref, pred)\n",
    "        bleu_sum.append(bleu)\n",
    "\n",
    "        gleu = gleu_score_comp(ref, pred)\n",
    "        gleu_sum.append(gleu)\n",
    "        \n",
    "        #CIDER SCORER NOT WORKING... NEED TO DEBUG/DISCUSS IF NEEDED...\n",
    "        cider = cider_score_comp(ref, pred)\n",
    "        cider_sum.append(cider)\n",
    "        \n",
    "        rouge = rouge_score_comp(ref, pred)\n",
    "        rouge_sum.append(rouge)\n",
    "\n",
    "        meteor = meteor_score_comp(ref, pred)\n",
    "        meteor_sum.append(meteor)\n",
    "    \n",
    "    return mean(bleu_sum), mean(gleu_sum), mean(meteor_sum), mean(rouge_sum), mean(cider_sum)"
   ]
  }
 ],
 "metadata": {
  "kernelspec": {
   "display_name": "Python 3",
   "language": "python",
   "name": "python3"
  },
  "language_info": {
   "codemirror_mode": {
    "name": "ipython",
    "version": 3
   },
   "file_extension": ".py",
   "mimetype": "text/x-python",
   "name": "python",
   "nbconvert_exporter": "python",
   "pygments_lexer": "ipython3",
   "version": "3.5.3"
  }
 },
 "nbformat": 4,
 "nbformat_minor": 2
}
